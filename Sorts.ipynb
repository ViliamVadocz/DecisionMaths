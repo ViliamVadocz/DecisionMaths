{
 "cells": [
  {
   "cell_type": "code",
   "execution_count": 28,
   "metadata": {},
   "outputs": [
    {
     "name": "stdout",
     "output_type": "stream",
     "text": [
      "help\n",
      "pivot 3\n",
      "pivots 1\n",
      "[2, 1, 0]\n",
      "[6, 5, 4]\n",
      "help\n",
      "pivot 1\n",
      "pivots 2\n",
      "[0]\n",
      "[2]\n",
      "help\n",
      "pivot 0\n",
      "pivots 3\n",
      "[]\n",
      "[]\n",
      "help\n",
      "pivot 2\n",
      "pivots 3\n",
      "[]\n",
      "[]\n",
      "help\n",
      "pivot 5\n",
      "pivots 2\n",
      "[4]\n",
      "[6]\n",
      "help\n",
      "pivot 4\n",
      "pivots 3\n",
      "[]\n",
      "[]\n",
      "help\n",
      "pivot 6\n",
      "pivots 3\n",
      "[]\n",
      "[]\n"
     ]
    },
    {
     "data": {
      "text/plain": [
       "[2, 1, 0, 3, 6, 5, 4]"
      ]
     },
     "execution_count": 28,
     "metadata": {},
     "output_type": "execute_result"
    }
   ],
   "source": [
    "def BubbleSort(L):\n",
    "    work_list_len = len(L)\n",
    "    swap = True\n",
    "    \n",
    "    while swap:\n",
    "        swap = False\n",
    "        for i in range(work_list_len-1):\n",
    "            if L[i] > L[i+1]:\n",
    "                swap = True\n",
    "                L[i], L[i+1] = L[i+1], L[i]\n",
    "        work_list_len-1 \n",
    "    return L\n",
    "\n",
    "def QuickSort(L,pivots=0):\n",
    "    print \"help\"\n",
    "    \n",
    "    pivot = L[int(len(L)/2)]\n",
    "    print \"pivot\", pivot\n",
    "    pivots += 1\n",
    "    print \"pivots\", pivots\n",
    "    less_than_pivot = []\n",
    "    great_than_pivot = []\n",
    "        \n",
    "    for i in L:\n",
    "        if i < pivot:\n",
    "            less_than_pivot.append(i)\n",
    "        elif i > pivot:\n",
    "            great_than_pivot.append(i)\n",
    "        elif L.index(i) != L.index(pivot):\n",
    "            great_than_pivot.append(i)\n",
    "            \n",
    "    print less_than_pivot\n",
    "    print great_than_pivot\n",
    "    \n",
    "    if pivots != len(L) and len(less_than_pivot) != 0:\n",
    "        QuickSort(less_than_pivot, pivots)\n",
    "    if pivots != len(L) and len(great_than_pivot) != 0:   \n",
    "        QuickSort(great_than_pivot, pivots)\n",
    "    \n",
    "    L = less_than_pivot + [pivot] + great_than_pivot\n",
    "    print L\n",
    "    \n",
    "    return L\n",
    "        \n",
    "    \n",
    "\n",
    "A = [6,5,4,3,2,1,0]\n",
    "QuickSort(A)"
   ]
  },
  {
   "cell_type": "code",
   "execution_count": null,
   "metadata": {},
   "outputs": [],
   "source": []
  }
 ],
 "metadata": {
  "kernelspec": {
   "display_name": "Python 2",
   "language": "python",
   "name": "python2"
  },
  "language_info": {
   "codemirror_mode": {
    "name": "ipython",
    "version": 2
   },
   "file_extension": ".py",
   "mimetype": "text/x-python",
   "name": "python",
   "nbconvert_exporter": "python",
   "pygments_lexer": "ipython2",
   "version": "2.7.15"
  }
 },
 "nbformat": 4,
 "nbformat_minor": 2
}
