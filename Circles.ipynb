{
 "cells": [
  {
   "cell_type": "code",
   "execution_count": 31,
   "metadata": {
    "scrolled": false
   },
   "outputs": [
    {
     "name": "stdout",
     "output_type": "stream",
     "text": [
      "rnd= 85\n",
      "points= [0.50391002 0.36494899] [0.50989454 0.36772117] [0.51587855 0.37045894]\n",
      "centre= [-0.45491478  0.81187257]\n",
      "r= 1.0578684573521209\n"
     ]
    },
    {
     "data": {
      "image/png": "[encoded data removed]",
      "text/plain": [
       "<Figure size 432x288 with 1 Axes>"
      ]
     },
     "metadata": {
      "needs_background": "light"
     },
     "output_type": "display_data"
    }
   ],
   "source": [
    "import math\n",
    "import random\n",
    "import numpy as np\n",
    "import matplotlib.pyplot as plt\n",
    "\n",
    "class Circle:\n",
    "    def __init__(self,x,y,r):\n",
    "        self.x      = x\n",
    "        self.y      = y\n",
    "        self.r      = r\n",
    "        self.centre = np.array([x,y])\n",
    "    def generate_points(self,n):\n",
    "        points = np.zeros((n+1,2))\n",
    "        for i in range(n+1):\n",
    "            theta = i * (2*np.pi / n)\n",
    "            offset = np.array([self.r*math.cos(theta),self.r*math.sin(theta)])\n",
    "            point = self.centre + offset\n",
    "            points[i] += point\n",
    "        return points\n",
    "\n",
    "def circle_from_points(A,B,C):\n",
    "    \"\"\"creates a circle defined by three points\"\"\"\n",
    "    \n",
    "    midAB = 0.5*(A+B)\n",
    "    midBC = 0.5*(B+C)\n",
    "    \n",
    "    slopeAB = (B[1]-A[1])/(B[0]-A[0])\n",
    "    slopeBC = (C[1]-B[1])/(C[0]-B[0])\n",
    "    \n",
    "    slopeABperp = slopeAB / -1\n",
    "    slopeBCperp = slopeBC / -1\n",
    "    \n",
    "        #y - y1 = m(x - x1)\n",
    "    #y - midAB[1] = (slopeAB/-1)*(x - midAB[0])\n",
    "    #y - midBC[1] = (slopeBC/-1)*(x - midBC[0])\n",
    "    \n",
    "        #solve for x\n",
    "    #slopeABperp*(x - midAB[0]) + midAB[1] = slopeBCperp*(x - midBC[0]) + midBC[1]\n",
    "    #slopeABperp*(x - midAB[0]) - slopeBCperp*(x - midBC[0]) = midBC[1] - midAB[1]\n",
    "    #slopeABperp*x - slopeBCperp*x = midBC[1] - midAB[1] + slopeABperp*midAB[0] - slopeBCperp*midBC[0]\n",
    "    #x*(slopeABperp - slopeBCperp) = slopeABperp*midAB[0] - midAB[1] - slopeBCperp*midBC[0] + midBC[1]\n",
    "    \n",
    "    x = (slopeABperp*midAB[0] - midAB[1] - slopeBCperp*midBC[0] + midBC[1])/(slopeABperp - slopeBCperp)\n",
    "    y = slopeABperp*(x - midAB[0]) + midAB[1]\n",
    "    \n",
    "    centre = [x,y]\n",
    "    \n",
    "    r = np.linalg.norm(centre-A)\n",
    "    \n",
    "    return Circle(x,y,r)\n",
    "\n",
    "def bezier_quadratic(p0, p1, p2, t):\n",
    "    \"\"\"returns a position on bezier curve defined by 3 points at t\"\"\"\n",
    "    return p1 + (1-t)**2*(p0-p1) + t**2*(p2-p1)\n",
    "\n",
    "def bezier_cubic(p0, p1, p2, p3, t):\n",
    "    \"\"\"returns a position on bezier curve defined by 4 points at t\"\"\"\n",
    "    return (1-t)**3*p0 + 3*(1-t)**2*t*p1 + 3*(1-t)*t**2*p2 + t**3*p3\n",
    "\n",
    "#Bezier calculation\n",
    "n = 1000\n",
    "p0 = np.array([0,0])\n",
    "p1 = np.array([2,2])\n",
    "p2 = np.array([4,-3])\n",
    "p3 = np.array([5,0])\n",
    "t = np.linspace(0.0,1.0,n)\n",
    "s = np.zeros((n,2))\n",
    "for i in range(len(t)):\n",
    "    s[i] += (bezier_cubic(p0,p1,p2,p3,t[i]))\n",
    "    \n",
    "#Circle calculation\n",
    "rnd = random.randint(0,n)\n",
    "print('rnd=',rnd)\n",
    "print('points=',s[rnd-1],s[rnd],s[rnd+1])\n",
    "A = np.array([0,0])\n",
    "B = np.array([1,3])\n",
    "C = np.array([2,5])\n",
    "circle = circle_from_points(s[rnd-1],s[rnd],s[rnd+1])\n",
    "print('centre=',circle.centre)\n",
    "print('r=',circle.r)\n",
    "points = circle.generate_points(100)\n",
    "\n",
    "#Plotting\n",
    "plt.subplots()\n",
    "plt.plot(s[:,0], s[:,1], 'b-', label='Bezier')\n",
    "plt.plot(points[:,0], points[:,1], label='Circle')\n",
    "plt.title('bezier test')\n",
    "plt.xlabel('x')\n",
    "plt.ylabel('y')\n",
    "plt.grid()\n",
    "plt.show()"
   ]
  }
 ],
 "metadata": {
  "kernelspec": {
   "display_name": "Python 3",
   "language": "python",
   "name": "python3"
  },
  "language_info": {
   "codemirror_mode": {
    "name": "ipython",
    "version": 3
   },
   "file_extension": ".py",
   "mimetype": "text/x-python",
   "name": "python",
   "nbconvert_exporter": "python",
   "pygments_lexer": "ipython3",
   "version": "3.7.2"
  }
 },
 "nbformat": 4,
 "nbformat_minor": 2
}
