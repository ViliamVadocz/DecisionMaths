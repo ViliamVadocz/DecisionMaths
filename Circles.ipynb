{
 "cells": [
  {
   "cell_type": "code",
   "execution_count": null,
   "metadata": {},
   "outputs": [],
   "source": [
    "import math\n",
    "\n",
    "def circle_from_points(A,B,C):\n",
    "    \"\"\"\"returns the centre and radius of the circle defined by three points.\"\"\"\"\n",
    "    \n",
    "    midAB = midpoint(A,B)\n",
    "    midBC = midpoint(B,C)\n",
    "    \n",
    "    slopeAB = slope(A,B)\n",
    "    slopeBC = slope(B,C)\n",
    "    \n",
    "        #y - y1 = m(x - x1)\n",
    "    #y - midAB[1] = slopeAB*(x - midAB[0])\n",
    "    #y - midBC[1] = slopeBC*(x - midBC[0])\n",
    "    \n",
    "        #solve for x\n",
    "    #slopeAB*(x - midAB[0]) + midAB[1] = slopeBC*(x - midBC[0]) + midBC[1]\n",
    "    #slopeAB*(x - midAB[0]) - slopeBC*(x - midBC[0]) = midBC[1] - midAB[1]\n",
    "    #slopeAB*x - slopeBC*x = midBC[1] - midAB[1] + slopeAB*midAB[0] - slopeBC*midBC[0]\n",
    "    #x*(slopeAB - slopeBC) = slopeAB*midAB[0] - midAB[1] - slopeBC*midBC[0] + midBC[1]\n",
    "    \n",
    "    x = (slopeAB*midAB[0] - midAB[1] - slopeBC*midBC[0] + midBC[1])/(slopeAB - slopeBC)\n",
    "    y = slopeAB*(x - midAB[0]) + midAB[1]\n",
    "    \n",
    "    centre = [x,y]\n",
    "    \n",
    "    r = dist2d(center, A)\n",
    "    \n",
    "    return centre, r\n",
    "    \n",
    "def midpoint(A,B):\n",
    "    midpoint = [0.5*(A[0]+B[0]),0.5*(A[1]+B[1])]\n",
    "    return midpoint\n",
    "\n",
    "def slope(A,B):\n",
    "    slope = (B[1]-A[1])/(B[0]-A[0])\n",
    "    return slope\n",
    "\n",
    "def dist2d(A,B):\n",
    "    dist = math.sqrt((B[0]-A[0])**2+(B[1]-A[1])**2)\n",
    "    return dist"
   ]
  }
 ],
 "metadata": {
  "kernelspec": {
   "display_name": "Python 2",
   "language": "python",
   "name": "python2"
  },
  "language_info": {
   "codemirror_mode": {
    "name": "ipython",
    "version": 2
   },
   "file_extension": ".py",
   "mimetype": "text/x-python",
   "name": "python",
   "nbconvert_exporter": "python",
   "pygments_lexer": "ipython2",
   "version": "2.7.15"
  }
 },
 "nbformat": 4,
 "nbformat_minor": 2
}
