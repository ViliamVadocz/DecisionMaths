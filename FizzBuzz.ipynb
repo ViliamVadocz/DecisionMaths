{
 "cells": [
  {
   "cell_type": "code",
   "execution_count": null,
   "metadata": {},
   "outputs": [],
   "source": [
    "DefFizzBuzz = {'3':'Fizz','5':'Buzz'}\n",
    "FizzBuzzZipp = {'3':'Fizz','5':'Buzz','4':'Zipp'}\n",
    "\n",
    "def FizzBuzz(start,end,Diction):\n",
    "    for n in range(start,end+1):\n",
    "        result = \"\"\n",
    "        for trigger in Diction:\n",
    "            if n % int(trigger) == 0:\n",
    "                result += Diction[trigger]\n",
    "        if result == \"\":\n",
    "            result = n\n",
    "        print result\n",
    "\n",
    "FizzBuzz(1,100,FizzBuzzZipp)\n"
   ]
  }
 ],
 "metadata": {
  "kernelspec": {
   "display_name": "Python 2",
   "language": "python",
   "name": "python2"
  },
  "language_info": {
   "codemirror_mode": {
    "name": "ipython",
    "version": 2
   },
   "file_extension": ".py",
   "mimetype": "text/x-python",
   "name": "python",
   "nbconvert_exporter": "python",
   "pygments_lexer": "ipython2",
   "version": "2.7.14"
  }
 },
 "nbformat": 4,
 "nbformat_minor": 2
}
