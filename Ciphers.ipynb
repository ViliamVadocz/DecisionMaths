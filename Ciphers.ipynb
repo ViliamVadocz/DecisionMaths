{
 "cells": [
  {
   "cell_type": "code",
   "execution_count": 12,
   "metadata": {},
   "outputs": [
    {
     "name": "stdout",
     "output_type": "stream",
     "text": [
      "Guvf vf na rknzcyr grkg. Vg fubhyq grfg RIRELGUVAT, ohg nynf vg zvtug abg. V'q or n yvggyr ovg qvffncbvagrq; jbhyqa'g lbh?\n"
     ]
    }
   ],
   "source": [
    "alphabet = \"abcdefghijklmnopqrstuvwxyz\"\n",
    "syntax   = \",.;:-()'?!\"\n",
    "\n",
    "def Caesar(text, shift):\n",
    "    cipher_text = \"\"\n",
    "    for letter in text:\n",
    "        pos = alphabet.find(letter.lower())\n",
    "        \n",
    "        if pos == -1:\n",
    "            syntax_pos = syntax.find(letter)\n",
    "            \n",
    "            if syntax_pos == -1:\n",
    "                new_letter = \" \"\n",
    "            else:\n",
    "                new_letter = syntax[syntax_pos]\n",
    "                \n",
    "        else:\n",
    "            uppercase  = True if letter.isupper() else False\n",
    "            new_pos    = (pos + shift) % len(alphabet)\n",
    "            new_letter = alphabet[new_pos].upper() if uppercase else alphabet[new_pos].lower()\n",
    "            \n",
    "        cipher_text += new_letter\n",
    "        \n",
    "    return cipher_text\n",
    "\n",
    "text = \"This is an example text. It should test EVERYTHING, but alas it might not. I'd be a little bit dissapointed; wouldn't you?\"\n",
    "print Caesar(text, 13)"
   ]
  },
  {
   "cell_type": "code",
   "execution_count": null,
   "metadata": {},
   "outputs": [],
   "source": []
  }
 ],
 "metadata": {
  "kernelspec": {
   "display_name": "Python 2",
   "language": "python",
   "name": "python2"
  },
  "language_info": {
   "codemirror_mode": {
    "name": "ipython",
    "version": 2
   },
   "file_extension": ".py",
   "mimetype": "text/x-python",
   "name": "python",
   "nbconvert_exporter": "python",
   "pygments_lexer": "ipython2",
   "version": "2.7.15"
  }
 },
 "nbformat": 4,
 "nbformat_minor": 2
}
