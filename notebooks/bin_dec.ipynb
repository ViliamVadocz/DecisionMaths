{
 "cells": [
  {
   "cell_type": "code",
   "execution_count": 26,
   "metadata": {},
   "outputs": [
    {
     "name": "stdout",
     "output_type": "stream",
     "text": [
      "11\n",
      "11\n",
      "100100\n"
     ]
    }
   ],
   "source": [
    "def bin_to_dec(binary):\n",
    "    result = 0\n",
    "    for i in range(len(binary)):\n",
    "        result += int(binary[::-1][i]) * 2**i\n",
    "    return result\n",
    "\n",
    "def oneline_bin_to_dec(binary):\n",
    "    return sum([int(binary[::-1][i])*2**i for i in range(len(binary))])\n",
    "\n",
    "def dec_to_bin(decimal):\n",
    "    result = ''\n",
    "    carry = decimal\n",
    "    while carry != 0:\n",
    "        result += str(carry % 2)\n",
    "        carry /= 2\n",
    "    result = result[::-1]\n",
    "    return result\n",
    "\n",
    "bin_test = '1011'\n",
    "print bin_to_dec(bin_test)\n",
    "print oneline_bin_to_dec(bin_test)\n",
    "#11\n",
    "\n",
    "dec_test = 36\n",
    "print dec_to_bin(dec_test)\n",
    "#100100\n"
   ]
  }
 ],
 "metadata": {
  "kernelspec": {
   "display_name": "Python 2",
   "language": "python",
   "name": "python2"
  },
  "language_info": {
   "codemirror_mode": {
    "name": "ipython",
    "version": 2
   },
   "file_extension": ".py",
   "mimetype": "text/x-python",
   "name": "python",
   "nbconvert_exporter": "python",
   "pygments_lexer": "ipython2",
   "version": "2.7.15"
  }
 },
 "nbformat": 4,
 "nbformat_minor": 2
}
