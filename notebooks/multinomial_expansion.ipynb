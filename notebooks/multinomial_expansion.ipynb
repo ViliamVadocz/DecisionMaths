{
 "cells": [
  {
   "cell_type": "code",
   "execution_count": null,
   "metadata": {
    "scrolled": false
   },
   "outputs": [
    {
     "output_type": "error",
     "ename": "Error",
     "evalue": "Jupyter cannot be started. Error attempting to locate jupyter: 'Kernelspec' module not installed in the selected interpreter (C:\\Users\\vilia\\AppData\\Local\\Programs\\Python\\Python37\\python.exe).\n Please re-install or update 'jupyter'.",
     "traceback": [
      "Error: Jupyter cannot be started. Error attempting to locate jupyter: 'Kernelspec' module not installed in the selected interpreter (C:\\Users\\vilia\\AppData\\Local\\Programs\\Python\\Python37\\python.exe).",
      "Please re-install or update 'jupyter'.",
      "at C.startServer (c:\\Users\\vilia\\.vscode\\extensions\\ms-python.python-2020.3.71659\\out\\client\\extension.js:1:776232)",
      "at async C.ensureServerAndNotebookImpl (c:\\Users\\vilia\\.vscode\\extensions\\ms-python.python-2020.3.71659\\out\\client\\extension.js:1:775687)",
      "at async C.ensureServerAndNotebook (c:\\Users\\vilia\\.vscode\\extensions\\ms-python.python-2020.3.71659\\out\\client\\extension.js:1:775377)",
      "at async C.clearResult (c:\\Users\\vilia\\.vscode\\extensions\\ms-python.python-2020.3.71659\\out\\client\\extension.js:1:771418)",
      "at async C.reexecuteCell (c:\\Users\\vilia\\.vscode\\extensions\\ms-python.python-2020.3.71659\\out\\client\\extension.js:1:760783)",
      "at async C.reexecuteCells (c:\\Users\\vilia\\.vscode\\extensions\\ms-python.python-2020.3.71659\\out\\client\\extension.js:1:757797)"
     ]
    }
   ],
   "source": [
    "def factorial(n):\n",
    "    \"\"\"factorial of n\"\"\"\n",
    "    product = 1\n",
    "    for i in range(n):\n",
    "        product *= (i + 1)\n",
    "    return product\n",
    "\n",
    "def expand_from_comp(comp, args):\n",
    "    \"\"\"expands a single term from a composition\"\"\"\n",
    "    n = sum(comp)\n",
    "    \n",
    "    product = 1\n",
    "    for i in comp:\n",
    "        product *= factorial(i)\n",
    "        \n",
    "    coefficient = factorial(n) / product\n",
    "    \n",
    "    expansion = \"  +\" + str(coefficient)\n",
    "    for i in range(len(args)):\n",
    "        expansion += \"*\" + args[i] + \"^\" + str(comp[i])\n",
    "    \n",
    "    return expansion\n",
    "\n",
    "def comps(n, k, parent=tuple()):\n",
    "    \"\"\"returns all compositions of n in k parts\"\"\"\n",
    "    if k > 1:\n",
    "        for i in range(n+1):\n",
    "            for ii in comps(i, k-1, parent + (n - i,)):\n",
    "                yield ii\n",
    "    else:\n",
    "        yield parent + (n,)\n",
    "\n",
    "def multi_expand(n, *args):\n",
    "    \"\"\"returns the expansion of args to the power of n\"\"\"\n",
    "    k = len(args)\n",
    "    expansion = \"\"\n",
    "    for comp in comps(n,k):\n",
    "        expansion += expand_from_comp(comp,args)\n",
    "    \n",
    "    return expansion\n",
    "\n",
    "print(multi_expand(3, \"x\", \"y\", \"z\"))\n",
    "# put output into google calculator to check\n",
    "# this is intended for variables and not numbers, since you can solve those easily using other methods\n",
    "\n",
    "# number of compositions => terms\n",
    "# n = 4\n",
    "# k = 3\n",
    "# factorial(n + k - 1) / (factorial(k - 1) * factorial(n))"
   ]
  },
  {
   "cell_type": "code",
   "execution_count": null,
   "metadata": {},
   "outputs": [],
   "source": []
  }
 ],
 "metadata": {
  "kernelspec": {
   "display_name": "Python 3",
   "language": "python",
   "name": "python3"
  },
  "language_info": {
   "codemirror_mode": {
    "name": "ipython",
    "version": 3
   },
   "file_extension": ".py",
   "mimetype": "text/x-python",
   "name": "python",
   "nbconvert_exporter": "python",
   "pygments_lexer": "ipython3",
   "version": "3.7.2"
  }
 },
 "nbformat": 4,
 "nbformat_minor": 2
}