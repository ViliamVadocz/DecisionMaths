{
 "cells": [
  {
   "cell_type": "code",
   "execution_count": null,
   "metadata": {},
   "outputs": [],
   "source": [
    "def BubbleSort(L):\n",
    "    work_list_len = len(L)\n",
    "    swap = True\n",
    "    \n",
    "    while swap:\n",
    "        swap = False\n",
    "        for i in range(work_list_len-1):\n",
    "            if L[i] > L[i+1]:\n",
    "                swap = True\n",
    "                L[i], L[i+1] = L[i+1], L[i]\n",
    "        work_list_len-1 \n",
    "        \n",
    "    return L\n",
    "\n",
    "\n",
    "def QuickSort(L,pivots=0):\n",
    "    pivot = L[int(len(L)/2)]\n",
    "    del L[L.index(pivot)]\n",
    "    \n",
    "    less_than_pivot = []\n",
    "    great_than_pivot = []\n",
    "        \n",
    "    for i in L:\n",
    "        if i <= pivot:\n",
    "            less_than_pivot.append(i)\n",
    "        elif i > pivot:\n",
    "            great_than_pivot.append(i)\n",
    "    \n",
    "    if len(less_than_pivot) > 1:\n",
    "        less_than_pivot = QuickSort(less_than_pivot, pivots)\n",
    "    if len(great_than_pivot) > 1:\n",
    "        great_than_pivot = QuickSort(great_than_pivot, pivots)\n",
    "    \n",
    "    L = less_than_pivot + [pivot] + great_than_pivot\n",
    "    \n",
    "    return L\n",
    "\n",
    "\n",
    "A = [5,6,4,3,3,8,9,15,-12]\n",
    "#%timeit QuickSort(A)\n",
    "%timeit BubbleSort(A)\n",
    "%timeit A.sort()"
   ]
  },
  {
   "cell_type": "code",
   "execution_count": null,
   "metadata": {},
   "outputs": [],
   "source": []
  }
 ],
 "metadata": {
  "kernelspec": {
   "display_name": "Python 2",
   "language": "python",
   "name": "python2"
  },
  "language_info": {
   "codemirror_mode": {
    "name": "ipython",
    "version": 2
   },
   "file_extension": ".py",
   "mimetype": "text/x-python",
   "name": "python",
   "nbconvert_exporter": "python",
   "pygments_lexer": "ipython2",
   "version": "2.7.15"
  }
 },
 "nbformat": 4,
 "nbformat_minor": 2
}
