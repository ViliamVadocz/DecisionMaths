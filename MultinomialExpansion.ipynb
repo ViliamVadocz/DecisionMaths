{
 "cells": [
  {
   "cell_type": "code",
   "execution_count": 54,
   "metadata": {
    "scrolled": false
   },
   "outputs": [
    {
     "name": "stdout",
     "output_type": "stream",
     "text": [
      "  +1.0*a^4*b^0*c^0  +4.0*a^3*b^1*c^0  +4.0*a^3*b^0*c^1  +6.0*a^2*b^2*c^0  +12.0*a^2*b^1*c^1  +6.0*a^2*b^0*c^2  +4.0*a^1*b^3*c^0  +12.0*a^1*b^2*c^1  +12.0*a^1*b^1*c^2  +4.0*a^1*b^0*c^3  +1.0*a^0*b^4*c^0  +4.0*a^0*b^3*c^1  +6.0*a^0*b^2*c^2  +4.0*a^0*b^1*c^3  +1.0*a^0*b^0*c^4\n"
     ]
    },
    {
     "data": {
      "text/plain": [
       "15.0"
      ]
     },
     "execution_count": 54,
     "metadata": {},
     "output_type": "execute_result"
    }
   ],
   "source": [
    "def multi_expand(n,*args):\n",
    "    \"\"\"returns the expansion of args to the power of n\"\"\"\n",
    "    k = len(args)\n",
    "    expansion = \"\"\n",
    "    for comp in comps(n,k):\n",
    "        expansion += expand_from_comp(comp,args)\n",
    "    \n",
    "    return expansion\n",
    "\n",
    "    \n",
    "def comps(n,k,parent=tuple()):\n",
    "    \"\"\"returns all compositions of n in k parts\"\"\"\n",
    "    if k > 1:\n",
    "        for i in range(n+1):\n",
    "            for ii in comps(i, k-1, parent+(n-i,)):\n",
    "                yield ii\n",
    "    else:\n",
    "        yield parent + (n,)\n",
    "        \n",
    "        \n",
    "def expand_from_comp(comp,args):\n",
    "    \"\"\"expands a single term from a composition\"\"\"\n",
    "    n = sum(comp)\n",
    "    \n",
    "    product = 1\n",
    "    for i in comp:\n",
    "        product *= factorial(i)\n",
    "        \n",
    "    coefficient = factorial(n) / product\n",
    "    \n",
    "    expansion = \"  +\"+str(coefficient)\n",
    "    for i in range(len(args)):\n",
    "        expansion += \"*\"+args[i]+\"^\"+str(comp[i])\n",
    "    \n",
    "    return expansion\n",
    "    \n",
    "\n",
    "def factorial(n):\n",
    "    \"\"\"factorial of n\"\"\"\n",
    "    product = 1\n",
    "    for i in range(n):\n",
    "        product *= (i+1)\n",
    "    return product\n",
    "\n",
    "print(multi_expand(4,\"a\",\"b\",\"c\"))\n",
    "#put output into google calculator to check\n",
    "#this is intended for variables and not numbers, since you can solve those easily using other methods\n",
    "\n",
    "\n",
    "#number of compositions => terms\n",
    "n = 4\n",
    "k = 3\n",
    "factorial(n + k - 1) / (factorial(k - 1) * factorial(n))"
   ]
  },
  {
   "cell_type": "code",
   "execution_count": null,
   "metadata": {},
   "outputs": [],
   "source": []
  }
 ],
 "metadata": {
  "kernelspec": {
   "display_name": "Python 3",
   "language": "python",
   "name": "python3"
  },
  "language_info": {
   "codemirror_mode": {
    "name": "ipython",
    "version": 3
   },
   "file_extension": ".py",
   "mimetype": "text/x-python",
   "name": "python",
   "nbconvert_exporter": "python",
   "pygments_lexer": "ipython3",
   "version": "3.7.2"
  }
 },
 "nbformat": 4,
 "nbformat_minor": 2
}
