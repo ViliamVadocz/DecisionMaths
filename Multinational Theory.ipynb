{
 "cells": [
  {
   "cell_type": "code",
   "execution_count": null,
   "metadata": {},
   "outputs": [],
   "source": [
    " def multi_expand(n,*args):\n",
    "    \"\"\"returns the expansion of args to the power of n\"\"\"\n",
    "    k = len(*args)\n",
    "    comps = comps(n,k)\n",
    "    \n",
    "def comps(n,k):\n",
    "    \"\"\"returns composition of n in k parts\"\"\"\n",
    "    comps = []\n",
    "    \n",
    "    #def recursive(n,k):\n",
    "    #start with n\n",
    "    #start with n - 1st\n",
    "    #start with n - 1st - 2nd\n",
    "    #...\n",
    "    #end with n - all\n",
    "    \n",
    "    #start with n - 1\n",
    "    #start with n - 1st\n",
    "    #start with n - 1st - 2nd\n",
    "    #...\n",
    "    #end with n - all\n",
    "    \n",
    "    \"\"\"        \n",
    "    n = 4\n",
    "    k = 3\n",
    "    [\n",
    "    [4,0,0],\n",
    "    [3,1,0],[3,0,1],\n",
    "    [2,2,0],[2,1,1],[2,0,2],\n",
    "    [1,3,0],[1,2,1],[1,1,3],[1,0,3],\n",
    "    [0,4,0],[0,3,1],[0,2,2],[0,1,3],[0,0,4]\n",
    "    ]\n",
    "    \"\"\"    \n",
    "\n",
    "        \n",
    "    "
   ]
  }
 ],
 "metadata": {
  "kernelspec": {
   "display_name": "Python 2",
   "language": "python",
   "name": "python2"
  },
  "language_info": {
   "codemirror_mode": {
    "name": "ipython",
    "version": 2
   },
   "file_extension": ".py",
   "mimetype": "text/x-python",
   "name": "python",
   "nbconvert_exporter": "python",
   "pygments_lexer": "ipython2",
   "version": "2.7.15"
  }
 },
 "nbformat": 4,
 "nbformat_minor": 2
}
